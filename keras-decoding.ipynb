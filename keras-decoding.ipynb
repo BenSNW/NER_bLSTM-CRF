{
 "cells": [
  {
   "cell_type": "markdown",
   "metadata": {},
   "source": [
    "# decode some test sentences\n",
    "\n",
    "save as a csv file for reading"
   ]
  },
  {
   "cell_type": "code",
   "execution_count": 1,
   "metadata": {
    "collapsed": false,
    "deletable": true,
    "editable": true
   },
   "outputs": [
    {
     "name": "stderr",
     "output_type": "stream",
     "text": [
      "Using TensorFlow backend.\n"
     ]
    }
   ],
   "source": [
    "%matplotlib inline\n",
    "import matplotlib.pyplot as plt\n",
    "import pandas as pd\n",
    "import numpy as np\n",
    "from keras.preprocessing import sequence\n",
    "from keras.models import Model, Sequential, model_from_json\n",
    "from keras.models import load_model\n",
    "from keras.layers.wrappers import Bidirectional\n",
    "from keras.layers import Activation, Merge, average, concatenate, Input, TimeDistributed, LSTM, Dense, Dropout, Embedding\n",
    "from keras.models import save_model, load_model\n",
    "from keras_contrib.layers import CRF\n",
    "from keras_contrib.utils import save_load_utils"
   ]
  },
  {
   "cell_type": "code",
   "execution_count": 2,
   "metadata": {
    "collapsed": false,
    "deletable": true,
    "editable": true
   },
   "outputs": [
    {
     "name": "stdout",
     "output_type": "stream",
     "text": [
      "loading data...\n",
      "\n",
      "...data loaded!\n"
     ]
    }
   ],
   "source": [
    "# load data\n",
    "print(\"loading data...\\n\")\n",
    "word2idx = np.load('encoded/word2idx.npy').item()\n",
    "idx2word = np.load('encoded/idx2word.npy').item()\n",
    "pos2idx = np.load('encoded/pos2idx.npy').item()\n",
    "idx2pos = np.load('encoded/idx2pos.npy').item()\n",
    "ner2idx = np.load('encoded/ner2idx.npy').item()\n",
    "idx2ner = np.load('encoded/idx2ner.npy').item()\n",
    "test_idx = np.load('encoded/test_idx.npy')\n",
    "X_test_sents = np.load('encoded/X_test_sents.npy')\n",
    "X_test_pos = np.load('encoded/X_test_pos.npy')\n",
    "y_test_ner = np.load('encoded/y_test_ner.npy')\n",
    "print(\"...data loaded!\")"
   ]
  },
  {
   "cell_type": "markdown",
   "metadata": {},
   "source": [
    "## load weights\n",
    "\n",
    "load it this way because of `keras-contrib` CRF layer"
   ]
  },
  {
   "cell_type": "code",
   "execution_count": 3,
   "metadata": {
    "collapsed": false,
    "deletable": true,
    "editable": true
   },
   "outputs": [
    {
     "name": "stdout",
     "output_type": "stream",
     "text": [
      "Building model...\n",
      "\n"
     ]
    }
   ],
   "source": [
    "# params\n",
    "MAX_LENGTH = 16\n",
    "MAX_VOCAB = 25000    # see preprocessing.ipynb\n",
    "EMBEDDING_SIZE = 100 # from default gensim model, see preprocessing.ipynb\n",
    "HIDDEN_SIZE = 200    # LSTM Nodes/Features/Dimension\n",
    "BATCH_SIZE = 16\n",
    "DROPOUTRATE = 0.2\n",
    "MAX_EPOCHS = 5       # max iterations, early stop condition below\n",
    "TAG_VOCAB = len(list(idx2pos.keys()))\n",
    "NER_VOCAB = len(list(idx2ner.keys()))\n",
    "\n",
    "print('Building model...\\n')\n",
    "\n",
    "# text layers : dense embedding > dropout > bi-LSTM\n",
    "txt_input = Input(shape=(MAX_LENGTH,), name='txt_input')\n",
    "txt_embed = Embedding(MAX_VOCAB, EMBEDDING_SIZE, input_length=MAX_LENGTH,\n",
    "                      # weights=[word_embedding_matrix],\n",
    "                      name='txt_embedding', trainable=True)(txt_input)\n",
    "txt_drpot = Dropout(DROPOUTRATE, name='txt_dropout')(txt_embed)\n",
    "txt_lstml = Bidirectional(LSTM(HIDDEN_SIZE, return_sequences=True),\n",
    "                          name='txt_bidirectional')(txt_drpot)\n",
    "\n",
    "# pos layers : dense embedding > dropout > bi-LSTM\n",
    "pos_input = Input(shape=(MAX_LENGTH,), name='pos_input')\n",
    "pos_embed = Embedding(TAG_VOCAB, EMBEDDING_SIZE, input_length=MAX_LENGTH,\n",
    "                      # weights=[pos_embedding_matrix],\n",
    "                      name='pos_embedding', trainable=True)(pos_input)\n",
    "pos_drpot = Dropout(DROPOUTRATE, name='pos_dropout')(pos_embed)\n",
    "pos_lstml = Bidirectional(LSTM(HIDDEN_SIZE, return_sequences=True),\n",
    "                          name='pos_bidirectional')(pos_drpot)\n",
    "\n",
    "# merged layers : merge (concat, average...) word and pos > bi-LSTM > bi-LSTM\n",
    "# mrg_cncat = average([txt_lstml, pos_lstml])\n",
    "mrg_cncat = concatenate([txt_lstml, pos_lstml], axis=2)\n",
    "mrg_lstml = Bidirectional(LSTM(HIDDEN_SIZE, return_sequences=True),\n",
    "                          name='mrg_bidirectional_1')(mrg_cncat)\n",
    "# mrg_drpot = Dropout(DROPOUTRATE, name='mrg_dropout')(mrg_lstml)\n",
    "# mrg_lstml = Bidirectional(LSTM(HIDDEN_SIZE, return_sequences=True),\n",
    "#                           name='mrg_bidirectional_2')(mrg_lstml)\n",
    "# mrg_outpt = Activation('sigmoid', name='mrg_activation')(mrg_lstml)\n",
    "\n",
    "# final linear chain CRF layer\n",
    "crf = CRF(NER_VOCAB, sparse_target=True)\n",
    "mrg_chain = crf(mrg_lstml)\n",
    "\n",
    "model = Model(inputs=[txt_input, pos_input], outputs=mrg_chain)"
   ]
  },
  {
   "cell_type": "code",
   "execution_count": 4,
   "metadata": {
    "collapsed": false,
    "deletable": true,
    "editable": true
   },
   "outputs": [
    {
     "name": "stdout",
     "output_type": "stream",
     "text": [
      "____________________________________________________________________________________________________\n",
      "Layer (type)                     Output Shape          Param #     Connected to                     \n",
      "====================================================================================================\n",
      "txt_input (InputLayer)           (None, 16)            0                                            \n",
      "____________________________________________________________________________________________________\n",
      "pos_input (InputLayer)           (None, 16)            0                                            \n",
      "____________________________________________________________________________________________________\n",
      "txt_embedding (Embedding)        (None, 16, 100)       2500000     txt_input[0][0]                  \n",
      "____________________________________________________________________________________________________\n",
      "pos_embedding (Embedding)        (None, 16, 100)       4400        pos_input[0][0]                  \n",
      "____________________________________________________________________________________________________\n",
      "txt_dropout (Dropout)            (None, 16, 100)       0           txt_embedding[0][0]              \n",
      "____________________________________________________________________________________________________\n",
      "pos_dropout (Dropout)            (None, 16, 100)       0           pos_embedding[0][0]              \n",
      "____________________________________________________________________________________________________\n",
      "txt_bidirectional (Bidirectional (None, 16, 400)       481600      txt_dropout[0][0]                \n",
      "____________________________________________________________________________________________________\n",
      "pos_bidirectional (Bidirectional (None, 16, 400)       481600      pos_dropout[0][0]                \n",
      "____________________________________________________________________________________________________\n",
      "concatenate_1 (Concatenate)      (None, 16, 800)       0           txt_bidirectional[0][0]          \n",
      "                                                                   pos_bidirectional[0][0]          \n",
      "____________________________________________________________________________________________________\n",
      "mrg_bidirectional_1 (Bidirection (None, 16, 400)       1601600     concatenate_1[0][0]              \n",
      "____________________________________________________________________________________________________\n",
      "crf_1 (CRF)                      (None, 16, 19)        8018        mrg_bidirectional_1[0][0]        \n",
      "====================================================================================================\n",
      "Total params: 5,077,218\n",
      "Trainable params: 5,077,218\n",
      "Non-trainable params: 0\n",
      "____________________________________________________________________________________________________\n"
     ]
    }
   ],
   "source": [
    "# load model\n",
    "save_load_utils.load_all_weights(model,'model/crf_model.h5')\n",
    "model.summary()"
   ]
  },
  {
   "cell_type": "code",
   "execution_count": 5,
   "metadata": {
    "collapsed": false,
    "deletable": true,
    "editable": true
   },
   "outputs": [
    {
     "data": {
      "image/png": "[encoded data removed]",
      "text/plain": [
       "<matplotlib.figure.Figure at 0x7fd65f029780>"
      ]
     },
     "metadata": {},
     "output_type": "display_data"
    }
   ],
   "source": [
    "# load history dict from training\n",
    "hist_dict = np.load('model/hist_dict.npy').item()\n",
    "plt.plot(hist_dict['acc'], 'red', label='acc')\n",
    "plt.plot(hist_dict['val_acc'], 'blue', label='val_acc')\n",
    "plt.title(\"model training accuracy\")\n",
    "plt.ylabel('accuracy')\n",
    "plt.xlabel('epochs')\n",
    "plt.legend(loc=7)\n",
    "plt.show()"
   ]
  },
  {
   "cell_type": "code",
   "execution_count": 12,
   "metadata": {
    "collapsed": false,
    "deletable": true,
    "editable": true
   },
   "outputs": [],
   "source": [
    "decoded = []\n",
    "for sent_idx in range(len(X_test_sents[:500])):\n",
    "    \n",
    "    this_txt = sequence.pad_sequences([X_test_sents[sent_idx]], maxlen=MAX_LENGTH, truncating='post', padding='post')\n",
    "    this_pos = sequence.pad_sequences([X_test_pos[sent_idx]], maxlen=MAX_LENGTH, truncating='post', padding='post')\n",
    "    this_pred = model.predict([this_txt, this_pos])\n",
    "    this_pred = [np.argmax(p) for p in this_pred[0]]\n",
    "    np.shape(this_pred)\n",
    "\n",
    "    word, pos, tru, prd = [], [], [], []\n",
    "\n",
    "    # for each word in the sentence...\n",
    "    for idx, wordid in enumerate(X_test_sents[sent_idx][:len(this_pred)]):\n",
    "\n",
    "        # decode word\n",
    "        word.append(idx2word[wordid])\n",
    "        # decode pos\n",
    "        pos.append(idx2pos[X_test_pos[sent_idx][idx]])\n",
    "        # decode true NER tag\n",
    "        tru.append(idx2ner[y_test_ner[sent_idx][idx]])\n",
    "        # decode prediction\n",
    "        prd.append(idx2ner[this_pred[idx]])\n",
    "\n",
    "    answ = pd.DataFrame(\n",
    "    {\n",
    "        'word': word,\n",
    "        'pos': pos,\n",
    "        'true': tru,\n",
    "        'pred': prd,\n",
    "        'skip' : [' ' for s in word]\n",
    "    })\n",
    "    answ = answ[['word', 'pos', 'true', 'pred', 'skip']]\n",
    "    answ = answ.T\n",
    "    decoded.append(answ)"
   ]
  },
  {
   "cell_type": "code",
   "execution_count": 13,
   "metadata": {
    "collapsed": false,
    "deletable": true,
    "editable": true
   },
   "outputs": [],
   "source": [
    "result = pd.concat(decoded)"
   ]
  },
  {
   "cell_type": "code",
   "execution_count": 16,
   "metadata": {
    "collapsed": false,
    "deletable": true,
    "editable": true
   },
   "outputs": [
    {
     "data": {
      "text/html": [
       "<div>\n",
       "<style>\n",
       "    .dataframe thead tr:only-child th {\n",
       "        text-align: right;\n",
       "    }\n",
       "\n",
       "    .dataframe thead th {\n",
       "        text-align: left;\n",
       "    }\n",
       "\n",
       "    .dataframe tbody tr th {\n",
       "        vertical-align: top;\n",
       "    }\n",
       "</style>\n",
       "<table border=\"1\" class=\"dataframe\">\n",
       "  <thead>\n",
       "    <tr style=\"text-align: right;\">\n",
       "      <th></th>\n",
       "      <th>0</th>\n",
       "      <th>1</th>\n",
       "      <th>2</th>\n",
       "      <th>3</th>\n",
       "      <th>4</th>\n",
       "      <th>5</th>\n",
       "      <th>6</th>\n",
       "      <th>7</th>\n",
       "      <th>8</th>\n",
       "      <th>9</th>\n",
       "      <th>10</th>\n",
       "      <th>11</th>\n",
       "      <th>12</th>\n",
       "      <th>13</th>\n",
       "      <th>14</th>\n",
       "      <th>15</th>\n",
       "    </tr>\n",
       "  </thead>\n",
       "  <tbody>\n",
       "    <tr>\n",
       "      <th>word</th>\n",
       "      <td>the</td>\n",
       "      <td>u.s.</td>\n",
       "      <td>military</td>\n",
       "      <td>says</td>\n",
       "      <td>the</td>\n",
       "      <td>chinook</td>\n",
       "      <td>aircraft</td>\n",
       "      <td>went</td>\n",
       "      <td>down</td>\n",
       "      <td>early</td>\n",
       "      <td>sunday</td>\n",
       "      <td>in</td>\n",
       "      <td>zabul</td>\n",
       "      <td>province</td>\n",
       "      <td>shortly</td>\n",
       "      <td>after</td>\n",
       "    </tr>\n",
       "    <tr>\n",
       "      <th>pos</th>\n",
       "      <td>DT</td>\n",
       "      <td>NNP</td>\n",
       "      <td>NN</td>\n",
       "      <td>VBZ</td>\n",
       "      <td>DT</td>\n",
       "      <td>NNP</td>\n",
       "      <td>NN</td>\n",
       "      <td>VBD</td>\n",
       "      <td>RB</td>\n",
       "      <td>RB</td>\n",
       "      <td>NNP</td>\n",
       "      <td>IN</td>\n",
       "      <td>NNP</td>\n",
       "      <td>NN</td>\n",
       "      <td>RB</td>\n",
       "      <td>IN</td>\n",
       "    </tr>\n",
       "    <tr>\n",
       "      <th>true</th>\n",
       "      <td>O</td>\n",
       "      <td>B-geo</td>\n",
       "      <td>O</td>\n",
       "      <td>O</td>\n",
       "      <td>O</td>\n",
       "      <td>O</td>\n",
       "      <td>O</td>\n",
       "      <td>O</td>\n",
       "      <td>O</td>\n",
       "      <td>O</td>\n",
       "      <td>B-tim</td>\n",
       "      <td>O</td>\n",
       "      <td>B-geo</td>\n",
       "      <td>O</td>\n",
       "      <td>O</td>\n",
       "      <td>O</td>\n",
       "    </tr>\n",
       "    <tr>\n",
       "      <th>pred</th>\n",
       "      <td>O</td>\n",
       "      <td>B-geo</td>\n",
       "      <td>O</td>\n",
       "      <td>O</td>\n",
       "      <td>O</td>\n",
       "      <td>O</td>\n",
       "      <td>O</td>\n",
       "      <td>O</td>\n",
       "      <td>O</td>\n",
       "      <td>O</td>\n",
       "      <td>B-tim</td>\n",
       "      <td>O</td>\n",
       "      <td>B-geo</td>\n",
       "      <td>O</td>\n",
       "      <td>O</td>\n",
       "      <td>O</td>\n",
       "    </tr>\n",
       "    <tr>\n",
       "      <th>skip</th>\n",
       "      <td></td>\n",
       "      <td></td>\n",
       "      <td></td>\n",
       "      <td></td>\n",
       "      <td></td>\n",
       "      <td></td>\n",
       "      <td></td>\n",
       "      <td></td>\n",
       "      <td></td>\n",
       "      <td></td>\n",
       "      <td></td>\n",
       "      <td></td>\n",
       "      <td></td>\n",
       "      <td></td>\n",
       "      <td></td>\n",
       "      <td></td>\n",
       "    </tr>\n",
       "  </tbody>\n",
       "</table>\n",
       "</div>"
      ],
      "text/plain": [
       "       0      1         2     3    4        5         6     7     8      9   \\\n",
       "word  the   u.s.  military  says  the  chinook  aircraft  went  down  early   \n",
       "pos    DT    NNP        NN   VBZ   DT      NNP        NN   VBD    RB     RB   \n",
       "true    O  B-geo         O     O    O        O         O     O     O      O   \n",
       "pred    O  B-geo         O     O    O        O         O     O     O      O   \n",
       "skip                                                                          \n",
       "\n",
       "          10  11     12        13       14     15  \n",
       "word  sunday  in  zabul  province  shortly  after  \n",
       "pos      NNP  IN    NNP        NN       RB     IN  \n",
       "true   B-tim   O  B-geo         O        O      O  \n",
       "pred   B-tim   O  B-geo         O        O      O  \n",
       "skip                                               "
      ]
     },
     "execution_count": 16,
     "metadata": {},
     "output_type": "execute_result"
    }
   ],
   "source": [
    "result.head()"
   ]
  },
  {
   "cell_type": "code",
   "execution_count": 17,
   "metadata": {
    "collapsed": false,
    "deletable": true,
    "editable": true
   },
   "outputs": [],
   "source": [
    "result.to_csv('results/keras-biLSTM-CRF_sample.csv')"
   ]
  },
  {
   "cell_type": "code",
   "execution_count": null,
   "metadata": {
    "collapsed": true,
    "deletable": true,
    "editable": true
   },
   "outputs": [],
   "source": []
  }
 ],
 "metadata": {
  "kernelspec": {
   "display_name": "keras-contrib",
   "language": "python",
   "name": "keras-contrib"
  },
  "language_info": {
   "codemirror_mode": {
    "name": "ipython",
    "version": 3
   },
   "file_extension": ".py",
   "mimetype": "text/x-python",
   "name": "python",
   "nbconvert_exporter": "python",
   "pygments_lexer": "ipython3",
   "version": "3.5.2"
  }
 },
 "nbformat": 4,
 "nbformat_minor": 2
}
