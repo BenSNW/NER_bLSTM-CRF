{
 "cells": [
  {
   "cell_type": "code",
   "execution_count": 1,
   "metadata": {
    "collapsed": false
   },
   "outputs": [
    {
     "name": "stderr",
     "output_type": "stream",
     "text": [
      "Using TensorFlow backend.\n"
     ]
    }
   ],
   "source": [
    "%matplotlib inline\n",
    "import matplotlib.pyplot as plt\n",
    "import pandas as pd\n",
    "import numpy as np\n",
    "from keras.preprocessing import sequence\n",
    "from keras.models import Model, Sequential, model_from_json\n",
    "from keras.models import load_model\n",
    "from keras.layers.wrappers import Bidirectional\n",
    "from keras.layers import Activation, Merge, average, concatenate, Input, TimeDistributed, LSTM, Dense, Dropout, Embedding\n",
    "from keras.models import save_model, load_model\n",
    "from keras_contrib.layers import CRF\n",
    "from keras_contrib.utils import save_load_utils"
   ]
  },
  {
   "cell_type": "code",
   "execution_count": 2,
   "metadata": {
    "collapsed": false
   },
   "outputs": [
    {
     "name": "stdout",
     "output_type": "stream",
     "text": [
      "loading data...\n",
      "\n"
     ]
    }
   ],
   "source": [
    "# load data\n",
    "print(\"loading data...\\n\")\n",
    "# vocab = list(np.load('data/vocab.npy'))\n",
    "# sentence_text = list(np.load('data/sentence_text.npy'))\n",
    "# sentence_post = list(np.load('data/sentence_post.npy'))\n",
    "# sentence_ners = list(np.load('data/sentence_ners.npy'))\n",
    "# sentence_text_idx = np.load('data/sentence_text_idx.npy')\n",
    "# sentence_post_idx = np.load('data/sentence_post_idx.npy')\n",
    "# sentence_ners_idx = np.load('data/sentence_ners_idx.npy')\n",
    "word2idx = np.load('data/word2idx.npy').item()\n",
    "idx2word = np.load('data/idx2word.npy').item()\n",
    "pos2idx = np.load('data/pos2idx.npy').item()\n",
    "idx2pos = np.load('data/idx2pos.npy').item()\n",
    "ner2idx = np.load('data/ner2idx.npy').item()\n",
    "idx2ner = np.load('data/idx2ner.npy').item()\n",
    "# train_idx = np.load('data/train_idx.npy')\n",
    "test_idx = np.load('data/test_idx.npy')\n",
    "# X_train_sents = np.load('data/X_train_sents.npy')\n",
    "X_test_sents = np.load('data/X_test_sents.npy')\n",
    "# X_train_pos = np.load('data/X_train_pos.npy')\n",
    "X_test_pos = np.load('data/X_test_pos.npy')\n",
    "# y_train_ner = np.load('data/y_train_ner.npy')\n",
    "y_test_ner = np.load('data/y_test_ner.npy')"
   ]
  },
  {
   "cell_type": "code",
   "execution_count": 3,
   "metadata": {
    "collapsed": false
   },
   "outputs": [
    {
     "name": "stdout",
     "output_type": "stream",
     "text": [
      "Building model...\n",
      "\n"
     ]
    }
   ],
   "source": [
    "print('Building model...\\n')\n",
    "# params\n",
    "MAX_LENGTH = 30\n",
    "MAX_VOCAB = 25000    # see preprocessing.ipynb\n",
    "TAG_VOCAB = len(list(idx2pos.keys()))\n",
    "NER_VOCAB = len(list(idx2ner.keys()))\n",
    "EMBEDDING_SIZE = 100 # from default gensim model, see preprocessing.ipynb\n",
    "HIDDEN_SIZE = 200       # LSTM Nodes/Features/Dimension\n",
    "BATCH_SIZE = 64\n",
    "DROPOUTRATE = 0.2\n",
    "MAX_EPOCHS = 4 # max iterations, early stop condition below\n",
    "# text layers : dense embedding > dropout > bi-LSTM\n",
    "txt_input = Input(shape=(MAX_LENGTH,), name='txt_input')\n",
    "txt_embed = Embedding(MAX_VOCAB, EMBEDDING_SIZE, input_length=MAX_LENGTH,\n",
    "                      name='txt_embedding', trainable=True)(txt_input)\n",
    "txt_drpot = Dropout(DROPOUTRATE, name='txt_dropout')(txt_embed)\n",
    "txt_lstml = Bidirectional(LSTM(HIDDEN_SIZE, return_sequences=True),\n",
    "                          name='txt_bidirectional')(txt_drpot)\n",
    "\n",
    "# pos layers : dense embedding > dropout > bi-LSTM\n",
    "pos_input = Input(shape=(MAX_LENGTH,), name='pos_input')\n",
    "pos_embed = Embedding(TAG_VOCAB, EMBEDDING_SIZE, input_length=MAX_LENGTH,\n",
    "                      name='pos_embedding', trainable=True)(pos_input)\n",
    "pos_drpot = Dropout(DROPOUTRATE, name='pos_dropout')(pos_embed)\n",
    "pos_lstml = Bidirectional(LSTM(HIDDEN_SIZE, return_sequences=True),\n",
    "                          name='pos_bidirectional')(pos_drpot)\n",
    "\n",
    "# merged layers : merge (concat, average...) word and pos > bi-LSTM > bi-LSTM\n",
    "# mrg_cncat = average([txt_lstml, pos_lstml])\n",
    "mrg_cncat = concatenate([txt_lstml, pos_lstml], axis=2)\n",
    "mrg_lstml = Bidirectional(LSTM(HIDDEN_SIZE, return_sequences=True),\n",
    "                          name='mrg_bidirectional_1')(mrg_cncat)\n",
    "# mrg_drpot = Dropout(DROPOUTRATE, name='mrg_dropout')(mrg_lstml)\n",
    "mrg_lstml = Bidirectional(LSTM(HIDDEN_SIZE, return_sequences=True),\n",
    "                          name='mrg_bidirectional_2')(mrg_lstml)\n",
    "# mrg_outpt = Activation('softmax', name='mrg_activation')(mrg_lstml)\n",
    "\n",
    "# final linear chain CRF layer\n",
    "crf = CRF(NER_VOCAB, sparse_target=True)\n",
    "mrg_chain = crf(mrg_lstml)\n",
    "\n",
    "model = Model(inputs=[txt_input, pos_input], outputs=mrg_chain)"
   ]
  },
  {
   "cell_type": "code",
   "execution_count": 4,
   "metadata": {
    "collapsed": false
   },
   "outputs": [
    {
     "name": "stdout",
     "output_type": "stream",
     "text": [
      "____________________________________________________________________________________________________\n",
      "Layer (type)                     Output Shape          Param #     Connected to                     \n",
      "====================================================================================================\n",
      "txt_input (InputLayer)           (None, 30)            0                                            \n",
      "____________________________________________________________________________________________________\n",
      "pos_input (InputLayer)           (None, 30)            0                                            \n",
      "____________________________________________________________________________________________________\n",
      "txt_embedding (Embedding)        (None, 30, 100)       2500000     txt_input[0][0]                  \n",
      "____________________________________________________________________________________________________\n",
      "pos_embedding (Embedding)        (None, 30, 100)       4400        pos_input[0][0]                  \n",
      "____________________________________________________________________________________________________\n",
      "txt_dropout (Dropout)            (None, 30, 100)       0           txt_embedding[0][0]              \n",
      "____________________________________________________________________________________________________\n",
      "pos_dropout (Dropout)            (None, 30, 100)       0           pos_embedding[0][0]              \n",
      "____________________________________________________________________________________________________\n",
      "txt_bidirectional (Bidirectional (None, 30, 400)       481600      txt_dropout[0][0]                \n",
      "____________________________________________________________________________________________________\n",
      "pos_bidirectional (Bidirectional (None, 30, 400)       481600      pos_dropout[0][0]                \n",
      "____________________________________________________________________________________________________\n",
      "concatenate_1 (Concatenate)      (None, 30, 800)       0           txt_bidirectional[0][0]          \n",
      "                                                                   pos_bidirectional[0][0]          \n",
      "____________________________________________________________________________________________________\n",
      "mrg_bidirectional_1 (Bidirection (None, 30, 400)       1601600     concatenate_1[0][0]              \n",
      "____________________________________________________________________________________________________\n",
      "mrg_bidirectional_2 (Bidirection (None, 30, 400)       961600      mrg_bidirectional_1[0][0]        \n",
      "____________________________________________________________________________________________________\n",
      "crf_1 (CRF)                      (None, 30, 19)        8018        mrg_bidirectional_2[0][0]        \n",
      "====================================================================================================\n",
      "Total params: 6,038,818\n",
      "Trainable params: 6,038,818\n",
      "Non-trainable params: 0\n",
      "____________________________________________________________________________________________________\n"
     ]
    }
   ],
   "source": [
    "# load model\n",
    "save_load_utils.load_all_weights(model,'model/crf_model.h5')\n",
    "model.summary()"
   ]
  },
  {
   "cell_type": "code",
   "execution_count": 38,
   "metadata": {
    "collapsed": false
   },
   "outputs": [
    {
     "data": {
      "text/plain": [
       "{0: 'PAD',\n",
       " 1: 'O',\n",
       " 2: 'B-geo',\n",
       " 3: 'B-tim',\n",
       " 4: 'B-org',\n",
       " 5: 'I-per',\n",
       " 6: 'B-per',\n",
       " 7: 'I-org',\n",
       " 8: 'B-gpe',\n",
       " 9: 'I-geo',\n",
       " 10: 'I-tim',\n",
       " 11: 'B-art',\n",
       " 12: 'B-eve',\n",
       " 13: 'I-art',\n",
       " 14: 'I-eve',\n",
       " 15: 'B-nat',\n",
       " 16: 'I-gpe',\n",
       " 17: 'I-nat',\n",
       " 18: 'UNK'}"
      ]
     },
     "execution_count": 38,
     "metadata": {},
     "output_type": "execute_result"
    }
   ],
   "source": [
    "idx2ner"
   ]
  },
  {
   "cell_type": "code",
   "execution_count": 90,
   "metadata": {
    "collapsed": false
   },
   "outputs": [
    {
     "data": {
      "image/png": "[encoded data removed]",
      "text/plain": [
       "<matplotlib.figure.Figure at 0x7f25d7eddf28>"
      ]
     },
     "metadata": {},
     "output_type": "display_data"
    }
   ],
   "source": [
    "# load history dict from training\n",
    "hist_dict = np.load('model/hist_dict.npy').item()\n",
    "plt.plot(hist_dict['acc'], 'red', label='acc')\n",
    "plt.plot(hist_dict['val_acc'], 'blue', label='val_acc')\n",
    "plt.title(\"model training accuracy\")\n",
    "plt.ylabel('accuracy')\n",
    "plt.xlabel('epochs')\n",
    "plt.legend(loc=7)\n",
    "plt.show()"
   ]
  },
  {
   "cell_type": "code",
   "execution_count": null,
   "metadata": {
    "collapsed": false
   },
   "outputs": [],
   "source": [
    "decoded = []\n",
    "for sent_idx in range(len(X_test_sents[:500])):\n",
    "    \n",
    "    this_txt = sequence.pad_sequences([X_test_sents[sent_idx]], maxlen=MAX_LENGTH, truncating='post', padding='post')\n",
    "    this_pos = sequence.pad_sequences([X_test_pos[sent_idx]], maxlen=MAX_LENGTH, truncating='post', padding='post')\n",
    "    this_pred = model.predict([this_txt, this_pos])\n",
    "    this_pred = [np.argmax(p) for p in this_pred[0]]\n",
    "    np.shape(this_pred)\n",
    "\n",
    "    word, pos, tru, prd = [], [], [], []\n",
    "\n",
    "    # for each word in the sentence...\n",
    "    for idx, wordid in enumerate(X_test_sents[sent_idx][:29]):\n",
    "\n",
    "        # decode word\n",
    "        word.append(idx2word[wordid])\n",
    "        # decode pos\n",
    "        pos.append(idx2pos[X_test_pos[sent_idx][idx]])\n",
    "        # decode true NER tag\n",
    "        tru.append(idx2ner[y_test_ner[sent_idx][idx]])\n",
    "        # decode prediction\n",
    "        prd.append(idx2ner[this_pred[idx]])\n",
    "\n",
    "    answ = pd.DataFrame(\n",
    "    {\n",
    "        'word': word,\n",
    "        'pos': pos,\n",
    "        'true': tru,\n",
    "        'pred': prd,\n",
    "        'skip' : [' ' for s in word]\n",
    "    })\n",
    "    answ = answ[['word', 'pos', 'true', 'pred', 'skip']]\n",
    "    answ = answ.T\n",
    "    decoded.append(answ)"
   ]
  },
  {
   "cell_type": "code",
   "execution_count": null,
   "metadata": {
    "collapsed": false
   },
   "outputs": [],
   "source": [
    "result = pd.concat(decoded)"
   ]
  },
  {
   "cell_type": "code",
   "execution_count": null,
   "metadata": {
    "collapsed": false
   },
   "outputs": [],
   "source": [
    "result"
   ]
  },
  {
   "cell_type": "raw",
   "metadata": {},
   "source": []
  }
 ],
 "metadata": {
  "kernelspec": {
   "display_name": "Python 3",
   "language": "python",
   "name": "python3"
  },
  "language_info": {
   "codemirror_mode": {
    "name": "ipython",
    "version": 3
   },
   "file_extension": ".py",
   "mimetype": "text/x-python",
   "name": "python",
   "nbconvert_exporter": "python",
   "pygments_lexer": "ipython3",
   "version": "3.6.0"
  }
 },
 "nbformat": 4,
 "nbformat_minor": 2
}
